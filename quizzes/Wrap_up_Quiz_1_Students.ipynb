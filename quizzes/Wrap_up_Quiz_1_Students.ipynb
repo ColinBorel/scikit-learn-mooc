{
  "nbformat": 4,
  "nbformat_minor": 0,
  "metadata": {
    "colab": {
      "provenance": [],
      "mount_file_id": "1iBPj7SWMzomKVnk1igxRiDeTv8rBERyB",
      "authorship_tag": "ABX9TyO/1GNLaummqEDm/ew9qaFm"
    },
    "kernelspec": {
      "name": "python3",
      "display_name": "Python 3"
    },
    "language_info": {
      "name": "python"
    }
  },
  "cells": [
    {
      "cell_type": "markdown",
      "source": [
        "# Wrap-up quiz 1\n",
        "\n",
        "**Estimated Time**: 30 minutes to 1 hour\n",
        "\n",
        "**This quiz requires some programming to be answered.**\n",
        "\n",
        "Open the dataset `ames_housing_no_missing.csv` with the following command:"
      ],
      "metadata": {
        "id": "XnAjzF2OulRi"
      }
    },
    {
      "cell_type": "code",
      "execution_count": null,
      "metadata": {
        "id": "RI9BOaqi_yFE"
      },
      "outputs": [],
      "source": [
        "import pandas as pd\n",
        "ames_housing = pd.read_csv(\"https://raw.githubusercontent.com/bilals/scikit-learn-mooc/main/datasets/ames_housing_no_missing.csv\")\n",
        "\n",
        "target_name = \"SalePrice\"\n",
        "data, target = ames_housing.drop(columns=target_name), ames_housing[target_name]\n",
        "target = (target > 200_000).astype(int)"
      ]
    },
    {
      "cell_type": "markdown",
      "source": [
        "`ames_housing` is a pandas dataframe. The column \"SalePrice\" contains the\n",
        "target variable.\n",
        "\n",
        "We did not encounter any regression problem yet. Therefore, we convert the\n",
        "regression target into a classification target to predict whether or not an\n",
        "house is expensive. \"Expensive\" is defined as a sale price greater than\n",
        "$200,000.\n",
        "\n",
        "## Question 1\n",
        "```\n",
        "Use the `data.info()` and ` data.head()` commands to examine the columns of the dataframe.\n",
        "The dataset contains:\n",
        "a) only numerical features\n",
        "b) only categorical features\n",
        "c) both numerical and categorical features\n",
        "\n",
        "Select a single answer\n",
        "```"
      ],
      "metadata": {
        "id": "POUsmFyuu8i1"
      }
    },
    {
      "cell_type": "markdown",
      "source": [
        "## Question 2\n",
        "\n",
        "```\n",
        "How many features are available to predict whether or not a house is expensive?\n",
        "\n",
        "a) 79\n",
        "b) 80\n",
        "c) 81\n",
        "\n",
        "Select a single answer\n",
        "```"
      ],
      "metadata": {
        "id": "ewaLytGIVKtH"
      }
    },
    {
      "cell_type": "markdown",
      "source": [
        "## Question 3\n",
        "\n",
        "```\n",
        "How many features are represented with numbers?\n",
        "\n",
        "a) 0\n",
        "b) 36\n",
        "c) 42\n",
        "d) 79\n",
        "\n",
        "Select a single answer\n",
        "```\n",
        "\n",
        "Hint: you can use the method\n",
        "[`df.select_dtypes`](https://pandas.pydata.org/pandas-docs/stable/reference/api/pandas.DataFrame.select_dtypes.html)\n",
        "or the function\n",
        "[`sklearn.compose.make_column_selector`](https://scikit-learn.org/stable/modules/generated/sklearn.compose.make_column_selector.html)\n",
        "as shown in a previous notebook."
      ],
      "metadata": {
        "id": "7tXWo6NZVOq1"
      }
    },
    {
      "cell_type": "markdown",
      "source": [
        "## Question 4\n",
        "\n",
        "Refer to the [dataset description](https://www.openml.org/d/42165) regarding\n",
        "the meaning of the dataset.\n",
        "\n",
        "```\n",
        "Among the following columns, which columns express a quantitative numerical value (excluding ordinal categories)?\n",
        "\n",
        "a) \"LotFrontage\"\n",
        "b) \"LotArea\"\n",
        "c) \"OverallQual\"\n",
        "d) \"OverallCond\"\n",
        "e) \"YearBuilt\"\n",
        "\n",
        "Select all answers that apply\n",
        "```"
      ],
      "metadata": {
        "id": "GwRmJ7Sqvm7K"
      }
    },
    {
      "cell_type": "markdown",
      "source": [
        "We consider the following numerical columns:"
      ],
      "metadata": {
        "id": "Yby0npYiVUXd"
      }
    },
    {
      "cell_type": "code",
      "source": [
        "numerical_features = [\n",
        "  \"LotFrontage\", \"LotArea\", \"MasVnrArea\", \"BsmtFinSF1\", \"BsmtFinSF2\",\n",
        "  \"BsmtUnfSF\", \"TotalBsmtSF\", \"1stFlrSF\", \"2ndFlrSF\", \"LowQualFinSF\",\n",
        "  \"GrLivArea\", \"BedroomAbvGr\", \"KitchenAbvGr\", \"TotRmsAbvGrd\", \"Fireplaces\",\n",
        "  \"GarageCars\", \"GarageArea\", \"WoodDeckSF\", \"OpenPorchSF\", \"EnclosedPorch\",\n",
        "  \"3SsnPorch\", \"ScreenPorch\", \"PoolArea\", \"MiscVal\",\n",
        "]"
      ],
      "metadata": {
        "id": "w-bjnDZAA11q"
      },
      "execution_count": null,
      "outputs": []
    },
    {
      "cell_type": "markdown",
      "source": [
        "Now create a predictive model that uses these numerical columns as input data.\n",
        "Your predictive model should be a pipeline composed of a\n",
        "[`sklearn.preprocessing.StandardScaler`](https://scikit-learn.org/stable/modules/generated/sklearn.preprocessing.StandardScaler.html)\n",
        "to scale these numerical data and a\n",
        "[`sklearn.linear_model.LogisticRegression`](https://scikit-learn.org/stable/modules/generated/sklearn.linear_model.LogisticRegression.html)."
      ],
      "metadata": {
        "id": "Kmz4XVZ0VXiM"
      }
    },
    {
      "cell_type": "markdown",
      "source": [
        "## Question 5\n",
        "```\n",
        "What is the accuracy score obtained by 10-fold cross-validation (you can set\n",
        "the parameter `cv=10` when calling `cross_validate`) of this pipeline?\n",
        "\n",
        "a) ~0.5\n",
        "b) ~0.7\n",
        "c) ~0.9\n",
        "\n",
        "Select a single answer\n",
        "```\n"
      ],
      "metadata": {
        "id": "42F4zBd8Vc7e"
      }
    },
    {
      "cell_type": "markdown",
      "source": [
        "Instead of solely using the numerical columns, let us build a pipeline that\n",
        "can process both the numerical and categorical features together as follows:\n",
        "\n",
        "- the `numerical_features` (as defined above) should be processed as previously\n",
        "  done with a `StandardScaler`;\n",
        "- the left-out columns should be treated as categorical variables using a\n",
        "  [`sklearn.preprocessing.OneHotEncoder`](https://scikit-learn.org/stable/modules/generated/sklearn.preprocessing.OneHotEncoder.html).\n",
        "  To avoid any issue with rare categories that could only be present during\n",
        "  the prediction, you can pass the parameter `handle_unknown=\"ignore\"` to the\n",
        "  `OneHotEncoder`.\n",
        "\n",
        "One way to compare two models is by comparing the cross-validation test scores\n",
        "of both models fold-to-fold, i.e. counting the number of folds where one model\n",
        "has a better test score than the other."
      ],
      "metadata": {
        "id": "0KyimqDvVj2Y"
      }
    },
    {
      "cell_type": "markdown",
      "source": [
        "\n",
        "## Question 6\n",
        "\n",
        "```\n",
        "Let's compare the model using all\n",
        "features with the model consisting of only numerical features. Select the range\n",
        "of folds where the former has a better test score than the latter:\n",
        "\n",
        "a) [0, 3]: the pipeline using all features is substantially worse than the pipeline using only numerical feature\n",
        "b) [4, 6]: both pipelines are almost equivalent\n",
        "c) [7, 10]: the pipeline using all features is substantially better than the pipeline using only numerical feature\n",
        "\n",
        "Select a single answer\n",
        "```"
      ],
      "metadata": {
        "id": "E01o6MQbw2fj"
      }
    },
    {
      "cell_type": "markdown",
      "source": [
        "Happy learning ! :)"
      ],
      "metadata": {
        "id": "hQCaxYQtVl6Z"
      }
    }
  ]
}